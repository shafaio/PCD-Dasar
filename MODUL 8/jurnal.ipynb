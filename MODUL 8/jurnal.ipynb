{
 "cells": [
  {
   "cell_type": "code",
   "execution_count": 102,
   "metadata": {},
   "outputs": [],
   "source": [
    "import matplotlib.pyplot as plt\n",
    "import pandas as pd\n",
    "import numpy as np\n",
    "import cv2 as cv\n",
    "import glob"
   ]
  },
  {
   "cell_type": "code",
   "execution_count": 103,
   "metadata": {},
   "outputs": [],
   "source": [
    "imageBatik_Betawi = []\n",
    "labelBatik_Betawi = []\n",
    "imageBatik_Cendrawasih = []\n",
    "labelBatik_Cendrawasih = []\n",
    "imageBatik_Kawung = []\n",
    "labelBatik_Kawung = []\n",
    "imageBatik_Megamendung = []\n",
    "labelBatik_Megamendung = []\n",
    "imageBatik_Parang = []\n",
    "labelBatik_Parang = []"
   ]
  },
  {
   "cell_type": "code",
   "execution_count": 104,
   "metadata": {},
   "outputs": [],
   "source": [
    "# for filename in glob.glob('Batik/Betawi/*.jpg'):\n",
    "#     # print(filename)\n",
    "#     labelBatik_Betawi = filename\n",
    "#     image = plt.imread(filename)\n",
    "#     imageBatik_Betawi.append(image)"
   ]
  },
  {
   "cell_type": "code",
   "execution_count": 105,
   "metadata": {},
   "outputs": [],
   "source": [
    "def importImage(folder):\n",
    "    direct = 'Batik/'\n",
    "    direct += folder\n",
    "    direct += '/*.jpg'\n",
    "    img = []\n",
    "    label = []\n",
    "    for nameFile in glob.glob (direct):\n",
    "        im = plt.imread(nameFile)\n",
    "        lbl = nameFile\n",
    "        img.append(im)\n",
    "        label.append(lbl)\n",
    "    return img, label"
   ]
  },
  {
   "cell_type": "code",
   "execution_count": 106,
   "metadata": {},
   "outputs": [],
   "source": [
    "imageBatik_Betawi, labelBatik_Betawi = importImage('Betawi')\n",
    "imageBatik_Cendrawasih, labelBatik_Cendrawasih = importImage('Cendrawasih')\n",
    "imageBatik_Kawung, labelBatik_Kawung = importImage('Kawung')\n",
    "imageBatik_Megamendung, labelBatik_Megamendung = importImage('Megamendung')\n",
    "imageBatik_Parang, labelBatik_Parang = importImage('Parang')"
   ]
  },
  {
   "cell_type": "code",
   "execution_count": null,
   "metadata": {},
   "outputs": [],
   "source": []
  }
 ],
 "metadata": {
  "interpreter": {
   "hash": "4a63073e03ce17fe91eec107b42d6a554fd829dd742dd383aed888861d98ab20"
  },
  "kernelspec": {
   "display_name": "Python 3.9.0 64-bit",
   "language": "python",
   "name": "python3"
  },
  "language_info": {
   "codemirror_mode": {
    "name": "ipython",
    "version": 3
   },
   "file_extension": ".py",
   "mimetype": "text/x-python",
   "name": "python",
   "nbconvert_exporter": "python",
   "pygments_lexer": "ipython3",
   "version": "3.9.0"
  },
  "orig_nbformat": 4
 },
 "nbformat": 4,
 "nbformat_minor": 2
}
